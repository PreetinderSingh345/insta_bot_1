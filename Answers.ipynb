{
 "cells": [
  {
   "cell_type": "markdown",
   "metadata": {},
   "source": [
    "setting up the browser session and importing the needed packages/libraries/modules"
   ]
  },
  {
   "cell_type": "code",
   "execution_count": 2,
   "metadata": {},
   "outputs": [],
   "source": [
    "from selenium import webdriver as wd\n",
    "\n",
    "driver=wd.Chrome(executable_path=\"C:/Users/preet/Downloads/chromedriver\")\n",
    "driver.get(\"https://www.instagram.com/\")"
   ]
  },
  {
   "cell_type": "code",
   "execution_count": 47,
   "metadata": {},
   "outputs": [],
   "source": [
    "from selenium.webdriver.common.by import By\n",
    "from selenium.webdriver.support.ui import WebDriverWait as wdw\n",
    "from selenium.webdriver.support import expected_conditions as ec\n",
    "\n",
    "from selenium.webdriver.common.keys import Keys\n",
    "\n",
    "import time\n",
    "\n",
    "wait=wdw(driver, 10)"
   ]
  },
  {
   "cell_type": "markdown",
   "metadata": {},
   "source": [
    "#### 1 Logging in to the instagram handle"
   ]
  },
  {
   "cell_type": "markdown",
   "metadata": {},
   "source": [
    "logging in using facebook"
   ]
  },
  {
   "cell_type": "code",
   "execution_count": 22,
   "metadata": {},
   "outputs": [],
   "source": [
    "login_with_facebook=driver.find_element_by_class_name(\"KPnG0\")\n",
    "login_with_facebook.click()"
   ]
  },
  {
   "cell_type": "markdown",
   "metadata": {},
   "source": [
    "entering username and password"
   ]
  },
  {
   "cell_type": "code",
   "execution_count": 23,
   "metadata": {},
   "outputs": [],
   "source": [
    "phone_input=driver.find_element_by_id(\"email\")\n",
    "password_input=driver.find_element_by_id(\"pass\")"
   ]
  },
  {
   "cell_type": "code",
   "execution_count": 24,
   "metadata": {},
   "outputs": [],
   "source": [
    "phone_input.send_keys(\"SAMPLE USERNAME\")\n",
    "password_input.send_keys(\"SAMPLE PASSWORD\")"
   ]
  },
  {
   "cell_type": "markdown",
   "metadata": {},
   "source": [
    "clicking login button"
   ]
  },
  {
   "cell_type": "code",
   "execution_count": 25,
   "metadata": {},
   "outputs": [],
   "source": [
    "login_button=driver.find_element_by_id(\"loginbutton\")\n",
    "login_button.click()"
   ]
  },
  {
   "cell_type": "markdown",
   "metadata": {},
   "source": [
    "closing the show notifications message"
   ]
  },
  {
   "cell_type": "code",
   "execution_count": 26,
   "metadata": {},
   "outputs": [],
   "source": [
    "noty_button=driver.find_element_by_class_name(\"HoLwm \")\n",
    "noty_button.click()"
   ]
  },
  {
   "cell_type": "markdown",
   "metadata": {},
   "source": [
    "#### 2 Searching for food and printing the names of all the instagram handles displayed in the list"
   ]
  },
  {
   "cell_type": "markdown",
   "metadata": {},
   "source": [
    "searching for food"
   ]
  },
  {
   "cell_type": "code",
   "execution_count": 27,
   "metadata": {},
   "outputs": [],
   "source": [
    "search_input=driver.find_element_by_class_name(\"XTCLo\")\n",
    "search_input.send_keys(\"food\")"
   ]
  },
  {
   "cell_type": "markdown",
   "metadata": {},
   "source": [
    "fetching the names "
   ]
  },
  {
   "cell_type": "code",
   "execution_count": 28,
   "metadata": {},
   "outputs": [],
   "source": [
    "names_of_handles=driver.find_elements_by_css_selector(\"._7UhW9.xLCgt.qyrsm.KV-D4.uL8Hv         \")"
   ]
  },
  {
   "cell_type": "markdown",
   "metadata": {},
   "source": [
    "printing the names"
   ]
  },
  {
   "cell_type": "code",
   "execution_count": 29,
   "metadata": {},
   "outputs": [
    {
     "name": "stdout",
     "output_type": "stream",
     "text": [
      "the_food_dimension\n",
      "foodtalkindia\n",
      "dilsefoodie\n",
      "street_food_chandigarh\n",
      "sailusfood\n",
      "yourfoodlab\n",
      "food\n",
      "thefoodkart_\n",
      "delhifoodwalks\n",
      "food_goodies07\n",
      "foodie_incarnate\n",
      "thaparfoodfestival\n",
      "checkmate_foods\n",
      "ministryoffood.in\n",
      "food_era_\n",
      "food\n",
      "foodys\n",
      "food.a.n.d.friends\n",
      "foodrush.recipe\n",
      "foodinsider\n",
      "tasty.foodrecipes\n",
      "weightloss.diet.hindi\n",
      "only_food_vibes_\n",
      "foodizm_ynr_0043\n",
      "delhifoodnest\n",
      "meghnasfoodmagic\n",
      "foodnetwork\n",
      "myfoodproject\n",
      "foodfuly\n",
      "The Food Dimension yamunanagar\n",
      "Food Street\n",
      "getmecheesyfood\n",
      "ruchika_asatkar\n",
      "home_made_foodz\n",
      "deep_nivuu\n",
      "foodiesince96\n",
      "_thefoodheist\n",
      "foodphotography\n",
      "foodie\n",
      "foodporn\n",
      "foodblogger\n",
      "gulbarga.food.diaries\n",
      "foodguidelines\n",
      "foodstagram\n",
      "food.darzee\n",
      "foodstylist\n",
      "fooddotcom\n",
      "Multani Fast Food\n",
      "thisisdelhi\n",
      "foodie_karnal\n",
      "thebuddycook\n",
      "food_fun_frolicbysonam\n",
      "foodlover\n",
      "indorefoodexplorer\n",
      "worthytale\n",
      "wording_punjabi.01\n"
     ]
    }
   ],
   "source": [
    "for name in names_of_handles:\n",
    "    name_string=name.get_attribute(\"innerHTML\").replace(\"#\", \"\")\n",
    "    print(name_string)"
   ]
  },
  {
   "cell_type": "markdown",
   "metadata": {},
   "source": [
    "#### 3 Searching and opening the open profile of So Delhi"
   ]
  },
  {
   "cell_type": "code",
   "execution_count": 30,
   "metadata": {},
   "outputs": [],
   "source": [
    "search_input.clear()"
   ]
  },
  {
   "cell_type": "code",
   "execution_count": 31,
   "metadata": {},
   "outputs": [],
   "source": [
    "search_input.send_keys(\"So Delhi\")"
   ]
  },
  {
   "cell_type": "code",
   "execution_count": 33,
   "metadata": {},
   "outputs": [],
   "source": [
    "search_input.send_keys(Keys.ENTER)\n",
    "search_input.send_keys(Keys.ENTER)"
   ]
  },
  {
   "cell_type": "markdown",
   "metadata": {},
   "source": [
    "#### 4 Following/Unfollowing So Delhi"
   ]
  },
  {
   "cell_type": "markdown",
   "metadata": {},
   "source": [
    "following So Delhi "
   ]
  },
  {
   "cell_type": "code",
   "execution_count": 34,
   "metadata": {},
   "outputs": [],
   "source": [
    "follow_button=driver.find_element_by_css_selector(\"._5f5mN.jIbKX._6VtSN.yZn4P   \")\n",
    "follow_button.click()"
   ]
  },
  {
   "cell_type": "markdown",
   "metadata": {},
   "source": [
    "sending a message to So Delhi"
   ]
  },
  {
   "cell_type": "code",
   "execution_count": 35,
   "metadata": {},
   "outputs": [],
   "source": [
    "message_button=driver.find_element_by_css_selector(\".sqdOP.L3NKy._4pI4F._8A5w5    \")\n",
    "message_button.click()"
   ]
  },
  {
   "cell_type": "code",
   "execution_count": 36,
   "metadata": {},
   "outputs": [],
   "source": [
    "message_input=driver.find_element_by_css_selector(\"textarea\")\n",
    "message_input.send_keys(\"I started following So Delhi\")"
   ]
  },
  {
   "cell_type": "code",
   "execution_count": 37,
   "metadata": {},
   "outputs": [],
   "source": [
    "message_input.send_keys(Keys.ENTER)"
   ]
  },
  {
   "cell_type": "code",
   "execution_count": 38,
   "metadata": {},
   "outputs": [],
   "source": [
    "driver.back()"
   ]
  },
  {
   "cell_type": "markdown",
   "metadata": {},
   "source": [
    "unfollowing So Delhi"
   ]
  },
  {
   "cell_type": "code",
   "execution_count": 39,
   "metadata": {},
   "outputs": [],
   "source": [
    "unfollow_button=driver.find_element_by_css_selector(\"._5f5mN.-fzfL._6VtSN.yZn4P   \")\n",
    "unfollow_button.click()"
   ]
  },
  {
   "cell_type": "code",
   "execution_count": 40,
   "metadata": {},
   "outputs": [],
   "source": [
    "unfollow_final_button=driver.find_element_by_css_selector(\".aOOlW.-Cab_   \")\n",
    "unfollow_final_button.click()"
   ]
  },
  {
   "cell_type": "markdown",
   "metadata": {},
   "source": [
    "#### 5 Liking/Unliking posts"
   ]
  },
  {
   "cell_type": "markdown",
   "metadata": {},
   "source": [
    "searching for dilsefoodie"
   ]
  },
  {
   "cell_type": "code",
   "execution_count": 42,
   "metadata": {},
   "outputs": [],
   "source": [
    "search_input=driver.find_element_by_class_name(\"XTCLo\")\n",
    "search_input.send_keys(\"dilsefoodie\")"
   ]
  },
  {
   "cell_type": "code",
   "execution_count": 43,
   "metadata": {},
   "outputs": [],
   "source": [
    "search_input.send_keys(Keys.ENTER)\n",
    "search_input.send_keys(Keys.ENTER)"
   ]
  },
  {
   "cell_type": "markdown",
   "metadata": {},
   "source": [
    "scrolling till we get 30 or more posts"
   ]
  },
  {
   "cell_type": "code",
   "execution_count": 44,
   "metadata": {},
   "outputs": [],
   "source": [
    "import time\n",
    "\n",
    "posts=None\n",
    "current_height=driver.execute_script(\"return document.body.scrollHeight\")\n",
    "\n",
    "while True:\n",
    "    driver.execute_script(\"window.scrollTo(0, arguments[0])\", current_height)\n",
    "    \n",
    "    time.sleep(2)\n",
    "    \n",
    "    if len(driver.find_elements_by_css_selector(\".v1Nh3.kIKUG._bz0w\"))>=30:\n",
    "        posts=driver.find_elements_by_css_selector(\".v1Nh3.kIKUG._bz0w\")\n",
    "        break\n",
    "    \n",
    "    new_height=driver.execute_script(\"return document.body.scrollHeight\")\n",
    "    \n",
    "    if new_height==current_height:\n",
    "        break\n",
    "    \n",
    "    current_height=new_height\n",
    "    "
   ]
  },
  {
   "cell_type": "markdown",
   "metadata": {},
   "source": [
    "getting the 30 posts"
   ]
  },
  {
   "cell_type": "code",
   "execution_count": 45,
   "metadata": {},
   "outputs": [],
   "source": [
    "posts=posts[:30]"
   ]
  },
  {
   "cell_type": "markdown",
   "metadata": {},
   "source": [
    "liking the 30 posts"
   ]
  },
  {
   "cell_type": "code",
   "execution_count": 49,
   "metadata": {},
   "outputs": [],
   "source": [
    "for post in posts:\n",
    "    time.sleep(1)\n",
    "    \n",
    "    post.click()\n",
    "    \n",
    "    wait.until(ec.presence_of_element_located((By.XPATH, \"//span[@class='fr66n']/button\")))\n",
    "    \n",
    "    like_button=driver.find_element_by_xpath(\"//span[@class='fr66n']/button\")\n",
    "    like_button.click()\n",
    "    \n",
    "    close_button=driver.find_element_by_css_selector(\"div.Igw0E.IwRSH.eGOV_._4EzTm.BI4qX.qJPeX.fm1AK.TxciK.yiMZG button.wpO6b  \")\n",
    "    close_button.click()    \n",
    "    "
   ]
  },
  {
   "cell_type": "markdown",
   "metadata": {},
   "source": [
    "unliking the 30 posts"
   ]
  },
  {
   "cell_type": "code",
   "execution_count": 50,
   "metadata": {},
   "outputs": [],
   "source": [
    "for post in posts:\n",
    "    time.sleep(1)\n",
    "    \n",
    "    post.click()\n",
    "    \n",
    "    wait.until(ec.presence_of_element_located((By.XPATH, \"//span[@class='fr66n']/button\")))\n",
    "    \n",
    "    unlike_button=driver.find_element_by_xpath(\"//span[@class='fr66n']/button\")\n",
    "    unlike_button.click()\n",
    "    \n",
    "    close_button=driver.find_element_by_css_selector(\"div.Igw0E.IwRSH.eGOV_._4EzTm.BI4qX.qJPeX.fm1AK.TxciK.yiMZG button.wpO6b  \")\n",
    "    close_button.click()\n"
   ]
  },
  {
   "cell_type": "markdown",
   "metadata": {},
   "source": [
    "#### 6 Extracting list of followers"
   ]
  },
  {
   "cell_type": "markdown",
   "metadata": {},
   "source": [
    "searching for foodtalkindia"
   ]
  },
  {
   "cell_type": "code",
   "execution_count": 52,
   "metadata": {},
   "outputs": [],
   "source": [
    "search_input=driver.find_element_by_class_name(\"XTCLo\")\n",
    "search_input.send_keys(\"foodtalkindia\")"
   ]
  },
  {
   "cell_type": "code",
   "execution_count": 53,
   "metadata": {},
   "outputs": [],
   "source": [
    "search_input.send_keys(Keys.ENTER)\n",
    "search_input.send_keys(Keys.ENTER)"
   ]
  },
  {
   "cell_type": "markdown",
   "metadata": {},
   "source": [
    "cliking the followers button"
   ]
  },
  {
   "cell_type": "code",
   "execution_count": 54,
   "metadata": {},
   "outputs": [],
   "source": [
    "followers_button=driver.find_element_by_xpath(\"//ul[@class='k9GMp ']/li[position()=2]\")\n",
    "followers_button.click()"
   ]
  },
  {
   "cell_type": "markdown",
   "metadata": {},
   "source": [
    "scrolling till we get 500 or more followers"
   ]
  },
  {
   "cell_type": "code",
   "execution_count": 55,
   "metadata": {},
   "outputs": [],
   "source": [
    "followers=None\n",
    "current_height=driver.execute_script(\"return document.getElementsByClassName('isgrP')[0].scrollHeight\")\n",
    "\n",
    "while True:\n",
    "    driver.execute_script(\"document.getElementsByClassName('isgrP')[0].scrollTo(0, arguments[0])\", current_height)\n",
    "    \n",
    "    time.sleep(2)\n",
    "    \n",
    "    if len(driver.find_elements_by_css_selector(\".FPmhX.notranslate._0imsa \"))>=500:\n",
    "        followers=driver.find_elements_by_css_selector(\".FPmhX.notranslate._0imsa \")\n",
    "        break\n",
    "    \n",
    "    new_height=driver.execute_script(\"return document.getElementsByClassName('isgrP')[0].scrollHeight\")\n",
    "    \n",
    "    if new_height==current_height:\n",
    "        break\n",
    "    \n",
    "    current_height=new_height\n",
    "    "
   ]
  },
  {
   "cell_type": "markdown",
   "metadata": {},
   "source": [
    "getting 500 followers"
   ]
  },
  {
   "cell_type": "code",
   "execution_count": 57,
   "metadata": {},
   "outputs": [],
   "source": [
    "followers=followers[:500]\n",
    "\n",
    "for i in range(len(followers)):\n",
    "    followers[i]=followers[i].get_attribute(\"innerHTML\")"
   ]
  },
  {
   "cell_type": "markdown",
   "metadata": {},
   "source": [
    "closing the followers list"
   ]
  },
  {
   "cell_type": "code",
   "execution_count": 59,
   "metadata": {},
   "outputs": [],
   "source": [
    "close_button=driver.find_element_by_css_selector(\"div.WaOAr  button.wpO6b  \")\n",
    "close_button.click()"
   ]
  },
  {
   "cell_type": "markdown",
   "metadata": {},
   "source": [
    "searching for So Delhi"
   ]
  },
  {
   "cell_type": "code",
   "execution_count": 61,
   "metadata": {},
   "outputs": [],
   "source": [
    "search_input=driver.find_element_by_class_name(\"XTCLo\")\n",
    "search_input.send_keys(\"sodelhi\")"
   ]
  },
  {
   "cell_type": "code",
   "execution_count": 62,
   "metadata": {},
   "outputs": [],
   "source": [
    "search_input.send_keys(Keys.ENTER)\n",
    "search_input.send_keys(Keys.ENTER)"
   ]
  },
  {
   "cell_type": "markdown",
   "metadata": {},
   "source": [
    "cliking the followers button"
   ]
  },
  {
   "cell_type": "code",
   "execution_count": 63,
   "metadata": {},
   "outputs": [],
   "source": [
    "followers_button=driver.find_element_by_xpath(\"//ul[@class='k9GMp ']/li[position()=2]\")\n",
    "followers_button.click()"
   ]
  },
  {
   "cell_type": "markdown",
   "metadata": {},
   "source": [
    "scrolling till we get 500 or more followers"
   ]
  },
  {
   "cell_type": "code",
   "execution_count": 64,
   "metadata": {},
   "outputs": [],
   "source": [
    "followers=None\n",
    "current_height=driver.execute_script(\"return document.getElementsByClassName('isgrP')[0].scrollHeight\")\n",
    "\n",
    "while True:\n",
    "    driver.execute_script(\"document.getElementsByClassName('isgrP')[0].scrollTo(0, arguments[0])\", current_height)\n",
    "    \n",
    "    time.sleep(2)\n",
    "    \n",
    "    if len(driver.find_elements_by_css_selector(\".FPmhX.notranslate._0imsa \"))>=500:\n",
    "        followers=driver.find_elements_by_css_selector(\".FPmhX.notranslate._0imsa \")\n",
    "        break\n",
    "    \n",
    "    new_height=driver.execute_script(\"return document.getElementsByClassName('isgrP')[0].scrollHeight\")\n",
    "    \n",
    "    if new_height==current_height:\n",
    "        break\n",
    "    \n",
    "    current_height=new_height\n",
    "    "
   ]
  },
  {
   "cell_type": "markdown",
   "metadata": {},
   "source": [
    "getting 500 followers"
   ]
  },
  {
   "cell_type": "code",
   "execution_count": 66,
   "metadata": {},
   "outputs": [],
   "source": [
    "followers=followers[:500]\n",
    "\n",
    "for i in range(len(followers)):\n",
    "    followers[i]=followers[i].get_attribute(\"innerHTML\")"
   ]
  },
  {
   "cell_type": "markdown",
   "metadata": {},
   "source": [
    "closing the followers list"
   ]
  },
  {
   "cell_type": "code",
   "execution_count": 68,
   "metadata": {},
   "outputs": [],
   "source": [
    "close_button=driver.find_element_by_css_selector(\"div.WaOAr  button.wpO6b  \")\n",
    "close_button.click()"
   ]
  },
  {
   "cell_type": "markdown",
   "metadata": {},
   "source": [
    "searching for foodtalkindia"
   ]
  },
  {
   "cell_type": "code",
   "execution_count": 69,
   "metadata": {},
   "outputs": [],
   "source": [
    "search_input=driver.find_element_by_class_name(\"XTCLo\")\n",
    "search_input.send_keys(\"foodtalkindia\")"
   ]
  },
  {
   "cell_type": "code",
   "execution_count": 70,
   "metadata": {},
   "outputs": [],
   "source": [
    "search_input.send_keys(Keys.ENTER)\n",
    "search_input.send_keys(Keys.ENTER)"
   ]
  },
  {
   "cell_type": "markdown",
   "metadata": {},
   "source": [
    "clicking the followers button"
   ]
  },
  {
   "cell_type": "code",
   "execution_count": 71,
   "metadata": {},
   "outputs": [],
   "source": [
    "followers_button=driver.find_element_by_xpath(\"//ul[@class='k9GMp ']/li[position()=2]\")\n",
    "followers_button.click()"
   ]
  },
  {
   "cell_type": "markdown",
   "metadata": {},
   "source": [
    "scrolling till we get all the followers"
   ]
  },
  {
   "cell_type": "code",
   "execution_count": 72,
   "metadata": {},
   "outputs": [],
   "source": [
    "all_followers=None\n",
    "current_height=driver.execute_script(\"return document.getElementsByClassName('isgrP')[0].scrollHeight\")\n",
    "\n",
    "while True:\n",
    "    driver.execute_script(\"document.getElementsByClassName('isgrP')[0].scrollTo(0, arguments[0])\", current_height)\n",
    "    \n",
    "    time.sleep(2)\n",
    "        \n",
    "    new_height=driver.execute_script(\"return document.getElementsByClassName('isgrP')[0].scrollHeight\")\n",
    "    \n",
    "    if new_height==current_height:\n",
    "        all_followers=driver.find_elements_by_css_selector(\".FPmhX.notranslate._0imsa \")        \n",
    "        break\n",
    "        \n",
    "    current_height=new_height\n",
    "      "
   ]
  },
  {
   "cell_type": "code",
   "execution_count": 73,
   "metadata": {},
   "outputs": [],
   "source": [
    "for i in range(len(all_followers)):\n",
    "    all_followers[i]=all_followers[i].get_attribute(\"innerHTML\")"
   ]
  },
  {
   "cell_type": "markdown",
   "metadata": {},
   "source": [
    "closing the followers list"
   ]
  },
  {
   "cell_type": "code",
   "execution_count": 74,
   "metadata": {},
   "outputs": [],
   "source": [
    "close_button=driver.find_element_by_css_selector(\"div.WaOAr  button.wpO6b  \")\n",
    "close_button.click()"
   ]
  },
  {
   "cell_type": "markdown",
   "metadata": {},
   "source": [
    "clicking on the profile icon"
   ]
  },
  {
   "cell_type": "code",
   "execution_count": 75,
   "metadata": {},
   "outputs": [],
   "source": [
    "profile_icon=driver.find_element_by_xpath(\"//div[@class='Fifk5'][position()=5]\")\n",
    "profile_icon.click()"
   ]
  },
  {
   "cell_type": "markdown",
   "metadata": {},
   "source": [
    "clicking on the profile link"
   ]
  },
  {
   "cell_type": "code",
   "execution_count": 76,
   "metadata": {},
   "outputs": [],
   "source": [
    "profile_link=driver.find_element_by_class_name(\"-qQT3\")\n",
    "profile_link.click()"
   ]
  },
  {
   "cell_type": "markdown",
   "metadata": {},
   "source": [
    "clicking following button"
   ]
  },
  {
   "cell_type": "code",
   "execution_count": 77,
   "metadata": {},
   "outputs": [],
   "source": [
    "following_button=driver.find_element_by_xpath(\"//ul[@class='k9GMp ']/li[position()=3]\")\n",
    "following_button.click()"
   ]
  },
  {
   "cell_type": "markdown",
   "metadata": {},
   "source": [
    "scrolling till we get all the people I'm following"
   ]
  },
  {
   "cell_type": "code",
   "execution_count": 78,
   "metadata": {},
   "outputs": [],
   "source": [
    "following=None\n",
    "\n",
    "current_height=driver.execute_script(\"return document.getElementsByClassName('isgrP')[0].scrollHeight\")\n",
    "\n",
    "while True:\n",
    "    driver.execute_script(\"document.getElementsByClassName('isgrP')[0].scrollTo(0, arguments[0])\", current_height)\n",
    "    \n",
    "    time.sleep(2)\n",
    "        \n",
    "    new_height=driver.execute_script(\"return document.getElementsByClassName('isgrP')[0].scrollHeight\")\n",
    "    \n",
    "    if new_height==current_height:\n",
    "        following=driver.find_elements_by_css_selector(\".FPmhX.notranslate._0imsa \")        \n",
    "        break\n",
    "    \n",
    "    current_height=new_height\n"
   ]
  },
  {
   "cell_type": "code",
   "execution_count": 79,
   "metadata": {},
   "outputs": [],
   "source": [
    "for i in range(len(following)):\n",
    "    following[i]=following[i].get_attribute(\"innerHTML\")"
   ]
  },
  {
   "cell_type": "markdown",
   "metadata": {},
   "source": [
    "closing the following list"
   ]
  },
  {
   "cell_type": "code",
   "execution_count": 80,
   "metadata": {},
   "outputs": [],
   "source": [
    "close_button=driver.find_element_by_css_selector(\"div.WaOAr  button.wpO6b  \")\n",
    "close_button.click()"
   ]
  },
  {
   "cell_type": "markdown",
   "metadata": {},
   "source": [
    "clicking followers button"
   ]
  },
  {
   "cell_type": "code",
   "execution_count": 81,
   "metadata": {},
   "outputs": [],
   "source": [
    "followers_button=driver.find_element_by_xpath(\"//ul[@class='k9GMp ']/li[position()=2]\")\n",
    "followers_button.click()"
   ]
  },
  {
   "cell_type": "markdown",
   "metadata": {},
   "source": [
    "scrolling till we get all the people who're following me"
   ]
  },
  {
   "cell_type": "code",
   "execution_count": 82,
   "metadata": {},
   "outputs": [],
   "source": [
    "followers=None\n",
    "\n",
    "current_height=driver.execute_script(\"return document.getElementsByClassName('isgrP')[0].scrollHeight\")\n",
    "\n",
    "while True:\n",
    "    driver.execute_script(\"document.getElementsByClassName('isgrP')[0].scrollTo(0, arguments[0])\", current_height)\n",
    "    \n",
    "    time.sleep(2)\n",
    "        \n",
    "    new_height=driver.execute_script(\"return document.getElementsByClassName('isgrP')[0].scrollHeight\")\n",
    "    \n",
    "    if new_height==current_height:\n",
    "        followers=driver.find_elements_by_css_selector(\".FPmhX.notranslate._0imsa \")        \n",
    "        break\n",
    "    \n",
    "    current_height=new_height\n"
   ]
  },
  {
   "cell_type": "code",
   "execution_count": 83,
   "metadata": {},
   "outputs": [],
   "source": [
    "for i in range(len(followers)):\n",
    "    followers[i]=followers[i].get_attribute(\"innerHTML\")"
   ]
  },
  {
   "cell_type": "markdown",
   "metadata": {},
   "source": [
    "getting all the people who're not following me back"
   ]
  },
  {
   "cell_type": "code",
   "execution_count": 84,
   "metadata": {},
   "outputs": [],
   "source": [
    "not_following_back=[]\n",
    "\n",
    "for person_following in following:\n",
    "    if not person_following in followers:\n",
    "        not_following_back.append(person_following)"
   ]
  },
  {
   "cell_type": "markdown",
   "metadata": {},
   "source": [
    "printing all the people not following me back, but following foodtalkindia"
   ]
  },
  {
   "cell_type": "code",
   "execution_count": 86,
   "metadata": {},
   "outputs": [
    {
     "name": "stdout",
     "output_type": "stream",
     "text": [
      "from_aleeshas_pan\n"
     ]
    }
   ],
   "source": [
    "for person_following in all_followers:\n",
    "    if person_following in not_following_back:\n",
    "        print(person_following)"
   ]
  },
  {
   "cell_type": "code",
   "execution_count": 87,
   "metadata": {},
   "outputs": [],
   "source": [
    "close_button=driver.find_element_by_css_selector(\"div.WaOAr  button.wpO6b  \")\n",
    "close_button.click()"
   ]
  },
  {
   "cell_type": "markdown",
   "metadata": {},
   "source": [
    "#### 7 Checking story of coding.ninjas"
   ]
  },
  {
   "cell_type": "markdown",
   "metadata": {},
   "source": [
    "searching for coding.ninjas"
   ]
  },
  {
   "cell_type": "code",
   "execution_count": 95,
   "metadata": {},
   "outputs": [],
   "source": [
    "search_input=driver.find_element_by_class_name(\"XTCLo\")\n",
    "search_input.send_keys(\"coding.ninjas\")"
   ]
  },
  {
   "cell_type": "code",
   "execution_count": 96,
   "metadata": {},
   "outputs": [],
   "source": [
    "search_input.send_keys(Keys.ENTER)\n",
    "search_input.send_keys(Keys.ENTER)"
   ]
  },
  {
   "cell_type": "markdown",
   "metadata": {},
   "source": [
    "seeing the story of coding.ninjas(not seen earlier)"
   ]
  },
  {
   "cell_type": "code",
   "execution_count": 98,
   "metadata": {},
   "outputs": [],
   "source": [
    "story_icon=driver.find_element_by_class_name(\"_6q-tv\")\n",
    "story_icon.click()"
   ]
  },
  {
   "cell_type": "markdown",
   "metadata": {},
   "source": [
    "quitting the browser session"
   ]
  },
  {
   "cell_type": "code",
   "execution_count": 3,
   "metadata": {},
   "outputs": [],
   "source": [
    "driver.quit()"
   ]
  }
 ],
 "metadata": {
  "kernelspec": {
   "display_name": "Python 3",
   "language": "python",
   "name": "python3"
  },
  "language_info": {
   "codemirror_mode": {
    "name": "ipython",
    "version": 3
   },
   "file_extension": ".py",
   "mimetype": "text/x-python",
   "name": "python",
   "nbconvert_exporter": "python",
   "pygments_lexer": "ipython3",
   "version": "3.8.5"
  }
 },
 "nbformat": 4,
 "nbformat_minor": 4
}
